{
 "cells": [
  {
   "cell_type": "code",
   "execution_count": 1,
   "metadata": {},
   "outputs": [],
   "source": [
    "import numpy as np"
   ]
  },
  {
   "cell_type": "code",
   "execution_count": 3,
   "metadata": {},
   "outputs": [],
   "source": [
    "english_score = np.array([55,89,76,65,48,70])\n",
    "math_score = np.array([60,85,60,68,55,60])\n",
    "chinese_score = np.array([65,90,82,72,66,77])\n",
    "#1.有多少學生英文成績比數學成績高?\n",
    "#2.是否全班同學最高分都是國文?"
   ]
  },
  {
   "cell_type": "code",
   "execution_count": 6,
   "metadata": {},
   "outputs": [
    {
     "name": "stdout",
     "output_type": "stream",
     "text": [
      "有 3 個同學英文成績比數學成績高\n"
     ]
    }
   ],
   "source": [
    "en_greater_ma = np.greater(english_score, math_score)\n",
    "print(\"有\", np.sum(en_greater_ma), \"個同學英文成績比數學成績高\")"
   ]
  },
  {
   "cell_type": "code",
   "execution_count": 11,
   "metadata": {},
   "outputs": [
    {
     "name": "stdout",
     "output_type": "stream",
     "text": [
      "有 6 個同學最高分都是國文\n"
     ]
    }
   ],
   "source": [
    "ch_greater_en = np.greater(chinese_score, english_score)\n",
    "ch_greater_ma = np.greater(chinese_score, math_score)\n",
    "result = np.logical_and(ch_greater_en, ch_greater_ma)\n",
    "ch_highest = np.sum(result)\n",
    "print(\"有\", ch_highest, \"個同學最高分都是國文\")"
   ]
  }
 ],
 "metadata": {
  "kernelspec": {
   "display_name": "Python 3",
   "language": "python",
   "name": "python3"
  },
  "language_info": {
   "codemirror_mode": {
    "name": "ipython",
    "version": 3
   },
   "file_extension": ".py",
   "mimetype": "text/x-python",
   "name": "python",
   "nbconvert_exporter": "python",
   "pygments_lexer": "ipython3",
   "version": "3.7.4"
  }
 },
 "nbformat": 4,
 "nbformat_minor": 2
}
