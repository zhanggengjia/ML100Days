{
 "cells": [
  {
   "cell_type": "code",
   "execution_count": 91,
   "metadata": {},
   "outputs": [],
   "source": [
    "import copy\n",
    "import numpy as np"
   ]
  },
  {
   "cell_type": "code",
   "execution_count": 92,
   "metadata": {},
   "outputs": [
    {
     "data": {
      "text/plain": [
       "array([60., 85., 60., 68., nan, 60.])"
      ]
     },
     "execution_count": 92,
     "metadata": {},
     "output_type": "execute_result"
    }
   ],
   "source": [
    "english_score = np.array([55,89,76,65,48,70])\n",
    "math_score = np.array([60,85,60,68,np.nan,60])\n",
    "chinese_score = np.array([65,90,82,72,66,77])\n",
    "math_score"
   ]
  },
  {
   "cell_type": "code",
   "execution_count": 93,
   "metadata": {},
   "outputs": [],
   "source": [
    "#1. 請計算各科成績平均、最大值、最小值、標準差，其中數學缺一筆資料可忽略?"
   ]
  },
  {
   "cell_type": "code",
   "execution_count": 94,
   "metadata": {},
   "outputs": [],
   "source": [
    "#2. 第五位同學補考數學後成績為55，請計算補考後數學成績平均、最大值、最小值、標準差?"
   ]
  },
  {
   "cell_type": "code",
   "execution_count": 95,
   "metadata": {},
   "outputs": [],
   "source": [
    "#3. 用補考後資料找出與國文成績相關係數最高的學科?"
   ]
  },
  {
   "cell_type": "code",
   "execution_count": 96,
   "metadata": {},
   "outputs": [
    {
     "name": "stdout",
     "output_type": "stream",
     "text": [
      "英文平均: 67.16666666666667 英文最大值: 89 英文最小值: 48 英文標準差: 13.433995020924426\n",
      "數學平均: 66.6 數學最大值: 85.0 數學最小值: 60.0 數學標準差: 9.707728879609279\n",
      "國文平均: 75.33333333333333 國文最大值: 90 國文最小值: 65 國文標準差: 8.825468196582484\n"
     ]
    }
   ],
   "source": [
    "#english\n",
    "english_average = np.mean(english_score)\n",
    "english_max = np.amax(english_score)\n",
    "english_min = np.amin(english_score)\n",
    "english_standard = np.std(english_score)\n",
    "print(\"英文平均:\", english_average, \"英文最大值:\", english_max, \"英文最小值:\", english_min, \"英文標準差:\",english_standard)\n",
    "#math\n",
    "math_average = np.nanmean(math_score)\n",
    "math_max = np.nanmax(math_score)\n",
    "math_min = np.nanmin(math_score)\n",
    "math_standard = np.nanstd(math_score)\n",
    "print(\"數學平均:\", math_average, \"數學最大值:\", math_max, \"數學最小值:\", math_min, \"數學標準差:\",math_standard)\n",
    "#chinese\n",
    "chinese_average = np.mean(chinese_score)\n",
    "chinese_max = np.amax(chinese_score)\n",
    "chinese_min = np.amin(chinese_score)\n",
    "chinese_standard = np.std(chinese_score)\n",
    "print(\"國文平均:\", chinese_average, \"國文最大值:\", chinese_max, \"國文最小值:\", chinese_min, \"國文標準差:\",chinese_standard)"
   ]
  },
  {
   "cell_type": "code",
   "execution_count": 97,
   "metadata": {},
   "outputs": [
    {
     "name": "stdout",
     "output_type": "stream",
     "text": [
      "修改後數學平均: 64.66666666666667 數學最大值: 85.0 數學最小值: 55.0 數學標準差: 9.707728879609279\n"
     ]
    }
   ],
   "source": [
    "after_math_score = copy.copy(math_score)\n",
    "after_math_score[4] = 55\n",
    "after_math_average = np.nanmean(after_math_score)\n",
    "after_math_max = np.nanmax(after_math_score)\n",
    "after_math_min = np.nanmin(after_math_score)\n",
    "after_math_standard = np.nanstd(math_score)\n",
    "print(\"修改後數學平均:\", after_math_average, \"數學最大值:\", after_math_max, \"數學最小值:\", after_math_min, \"數學標準差:\",after_math_standard)"
   ]
  },
  {
   "cell_type": "code",
   "execution_count": 104,
   "metadata": {},
   "outputs": [
    {
     "name": "stdout",
     "output_type": "stream",
     "text": [
      "[[1.         0.97792828]\n",
      " [0.97792828 1.        ]]\n",
      "[[1.         0.74056803]\n",
      " [0.74056803 1.        ]]\n"
     ]
    }
   ],
   "source": [
    "english_corr = np.corrcoef([65,90,82,72,66,77], [55,89,76,65,48,70])\n",
    "math_corr = np.corrcoef([65,90,82,72,66,77], [60,85,60,68,55,60])\n",
    "print(english_corr)\n",
    "print(math_corr)"
   ]
  }
 ],
 "metadata": {
  "kernelspec": {
   "display_name": "Python 3",
   "language": "python",
   "name": "python3"
  },
  "language_info": {
   "codemirror_mode": {
    "name": "ipython",
    "version": 3
   },
   "file_extension": ".py",
   "mimetype": "text/x-python",
   "name": "python",
   "nbconvert_exporter": "python",
   "pygments_lexer": "ipython3",
   "version": "3.7.4"
  }
 },
 "nbformat": 4,
 "nbformat_minor": 2
}
